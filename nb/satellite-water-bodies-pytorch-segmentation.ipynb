{
 "cells": [
  {
   "cell_type": "code",
   "execution_count": null,
   "metadata": {
    "trusted": true
   },
   "outputs": [],
   "source": [
    "# IMPORTANT: RUN THIS CELL IN ORDER TO IMPORT YOUR KAGGLE DATA SOURCES,\n",
    "# THEN FEEL FREE TO DELETE THIS CELL.\n",
    "# NOTE: THIS NOTEBOOK ENVIRONMENT DIFFERS FROM KAGGLE'S PYTHON\n",
    "# ENVIRONMENT SO THERE MAY BE MISSING LIBRARIES USED BY YOUR\n",
    "# NOTEBOOK.\n",
    "import kagglehub\n",
    "franciscoescobar_satellite_images_of_water_bodies_path = kagglehub.dataset_download('franciscoescobar/satellite-images-of-water-bodies')\n",
    "\n",
    "print('Data source import complete.')"
   ]
  },
  {
   "cell_type": "code",
   "execution_count": null,
   "metadata": {
    "execution": {
     "iopub.execute_input": "2025-06-02T13:42:54.999726Z",
     "iopub.status.busy": "2025-06-02T13:42:54.999459Z",
     "iopub.status.idle": "2025-06-02T13:42:55.127987Z",
     "shell.execute_reply": "2025-06-02T13:42:55.127103Z",
     "shell.execute_reply.started": "2025-06-02T13:42:54.999676Z"
    },
    "trusted": true
   },
   "outputs": [],
   "source": [
    "!python -V"
   ]
  },
  {
   "cell_type": "code",
   "execution_count": null,
   "metadata": {
    "execution": {
     "iopub.execute_input": "2025-06-02T13:43:25.898112Z",
     "iopub.status.busy": "2025-06-02T13:43:25.897473Z",
     "iopub.status.idle": "2025-06-02T13:43:31.349483Z",
     "shell.execute_reply": "2025-06-02T13:43:31.348788Z",
     "shell.execute_reply.started": "2025-06-02T13:43:25.898087Z"
    },
    "trusted": true
   },
   "outputs": [],
   "source": [
    "!pip install --upgrade pip"
   ]
  },
  {
   "cell_type": "code",
   "execution_count": null,
   "metadata": {
    "execution": {
     "iopub.execute_input": "2025-06-02T13:43:47.875403Z",
     "iopub.status.busy": "2025-06-02T13:43:47.874827Z",
     "iopub.status.idle": "2025-06-02T13:43:50.051559Z",
     "shell.execute_reply": "2025-06-02T13:43:50.050817Z",
     "shell.execute_reply.started": "2025-06-02T13:43:47.875372Z"
    },
    "trusted": true
   },
   "outputs": [],
   "source": [
    "!pip install --upgrade opencv-contrib-python"
   ]
  },
  {
   "cell_type": "code",
   "execution_count": null,
   "metadata": {
    "execution": {
     "iopub.execute_input": "2025-06-02T13:43:57.519321Z",
     "iopub.status.busy": "2025-06-02T13:43:57.519036Z",
     "iopub.status.idle": "2025-06-02T13:45:21.992631Z",
     "shell.execute_reply": "2025-06-02T13:45:21.991829Z",
     "shell.execute_reply.started": "2025-06-02T13:43:57.519292Z"
    },
    "trusted": true
   },
   "outputs": [],
   "source": [
    "!pip install segmentation-models-pytorch"
   ]
  },
  {
   "cell_type": "code",
   "execution_count": null,
   "metadata": {
    "execution": {
     "iopub.execute_input": "2025-06-02T13:46:41.052952Z",
     "iopub.status.busy": "2025-06-02T13:46:41.052510Z",
     "iopub.status.idle": "2025-06-02T13:46:42.955789Z",
     "shell.execute_reply": "2025-06-02T13:46:42.955103Z",
     "shell.execute_reply.started": "2025-06-02T13:46:41.052923Z"
    },
    "trusted": true
   },
   "outputs": [],
   "source": [
    "!pip install albumentations"
   ]
  },
  {
   "cell_type": "code",
   "execution_count": null,
   "metadata": {
    "execution": {
     "iopub.execute_input": "2025-06-02T16:00:33.783622Z",
     "iopub.status.busy": "2025-06-02T16:00:33.782895Z",
     "iopub.status.idle": "2025-06-02T16:00:33.790945Z",
     "shell.execute_reply": "2025-06-02T16:00:33.790302Z",
     "shell.execute_reply.started": "2025-06-02T16:00:33.783597Z"
    },
    "trusted": true
   },
   "outputs": [],
   "source": [
    "import os\n",
    "import glob\n",
    "\n",
    "import albumentations as A\n",
    "from albumentations import HorizontalFlip, VerticalFlip, Rotate\n",
    "import cv2\n",
    "import matplotlib.image as mpimg\n",
    "import matplotlib.pyplot as plt\n",
    "import numpy as np\n",
    "from PIL import Image\n",
    "import segmentation_models_pytorch as smp\n",
    "from segmentation_models_pytorch.losses import DiceLoss\n",
    "import torch\n",
    "import torch.nn as nn\n",
    "import torch.nn.functional as F\n",
    "import torchvision\n",
    "import torchvision.transforms as transforms\n",
    "from torch.utils.data import Dataset, DataLoader\n",
    "from tqdm import tqdm\n",
    "\n",
    "torch.cuda.is_available()"
   ]
  },
  {
   "cell_type": "markdown",
   "metadata": {},
   "source": [
    "## Load the data"
   ]
  },
  {
   "cell_type": "code",
   "execution_count": null,
   "metadata": {
    "execution": {
     "iopub.execute_input": "2025-06-02T15:51:11.132322Z",
     "iopub.status.busy": "2025-06-02T15:51:11.131636Z",
     "iopub.status.idle": "2025-06-02T15:51:11.150180Z",
     "shell.execute_reply": "2025-06-02T15:51:11.149657Z",
     "shell.execute_reply.started": "2025-06-02T15:51:11.132299Z"
    },
    "trusted": true
   },
   "outputs": [],
   "source": [
    "import glob\n",
    "image_paths = sorted(glob.glob('../input/satellite-images-of-water-bodies/Water Bodies Dataset/Images/*'))\n",
    "mask_paths = sorted(glob.glob('../input/satellite-images-of-water-bodies/Water Bodies Dataset/Masks/*'))"
   ]
  },
  {
   "cell_type": "code",
   "execution_count": null,
   "metadata": {
    "execution": {
     "iopub.execute_input": "2025-06-02T15:51:23.431619Z",
     "iopub.status.busy": "2025-06-02T15:51:23.431154Z",
     "iopub.status.idle": "2025-06-02T15:51:23.436030Z",
     "shell.execute_reply": "2025-06-02T15:51:23.435446Z",
     "shell.execute_reply.started": "2025-06-02T15:51:23.431597Z"
    },
    "trusted": true
   },
   "outputs": [],
   "source": [
    "image_paths[0]"
   ]
  },
  {
   "cell_type": "code",
   "execution_count": null,
   "metadata": {
    "execution": {
     "iopub.execute_input": "2025-06-02T15:51:31.162700Z",
     "iopub.status.busy": "2025-06-02T15:51:31.162047Z",
     "iopub.status.idle": "2025-06-02T15:51:31.167023Z",
     "shell.execute_reply": "2025-06-02T15:51:31.166367Z",
     "shell.execute_reply.started": "2025-06-02T15:51:31.162678Z"
    },
    "trusted": true
   },
   "outputs": [],
   "source": [
    "len(image_paths)"
   ]
  },
  {
   "cell_type": "code",
   "execution_count": null,
   "metadata": {
    "execution": {
     "iopub.execute_input": "2025-06-02T15:49:28.403894Z",
     "iopub.status.busy": "2025-06-02T15:49:28.403577Z",
     "iopub.status.idle": "2025-06-02T15:49:28.408658Z",
     "shell.execute_reply": "2025-06-02T15:49:28.408104Z",
     "shell.execute_reply.started": "2025-06-02T15:49:28.403872Z"
    },
    "trusted": true
   },
   "outputs": [],
   "source": [
    "len(mask_paths)"
   ]
  },
  {
   "cell_type": "code",
   "execution_count": null,
   "metadata": {
    "execution": {
     "iopub.execute_input": "2025-06-02T15:53:54.015656Z",
     "iopub.status.busy": "2025-06-02T15:53:54.014802Z",
     "iopub.status.idle": "2025-06-02T15:53:55.335863Z",
     "shell.execute_reply": "2025-06-02T15:53:55.335137Z",
     "shell.execute_reply.started": "2025-06-02T15:53:54.015631Z"
    },
    "trusted": true
   },
   "outputs": [],
   "source": [
    "img = Image.open(image_paths[0])\n",
    "mask = Image.open(mask_paths[0])\n",
    "# mask = Image.open(mask_paths[0]).convert('L')\n",
    "\n",
    "plt.subplot(1, 2, 1)\n",
    "plt.imshow(img)\n",
    "\n",
    "plt.subplot(1, 2, 2)\n",
    "plt.imshow(mask)"
   ]
  },
  {
   "cell_type": "markdown",
   "metadata": {},
   "source": [
    "## Image Processing Pipeline"
   ]
  },
  {
   "cell_type": "code",
   "execution_count": null,
   "metadata": {
    "execution": {
     "iopub.execute_input": "2025-06-02T16:00:45.989474Z",
     "iopub.status.busy": "2025-06-02T16:00:45.989205Z",
     "iopub.status.idle": "2025-06-02T16:00:45.993380Z",
     "shell.execute_reply": "2025-06-02T16:00:45.992680Z",
     "shell.execute_reply.started": "2025-06-02T16:00:45.989456Z"
    },
    "trusted": true
   },
   "outputs": [],
   "source": [
    "height,width = (512, 512)"
   ]
  },
  {
   "cell_type": "code",
   "execution_count": null,
   "metadata": {
    "execution": {
     "iopub.execute_input": "2025-06-02T13:56:26.713445Z",
     "iopub.status.busy": "2025-06-02T13:56:26.712879Z",
     "iopub.status.idle": "2025-06-02T13:56:26.741525Z",
     "shell.execute_reply": "2025-06-02T13:56:26.740794Z",
     "shell.execute_reply.started": "2025-06-02T13:56:26.713426Z"
    },
    "trusted": true
   },
   "outputs": [],
   "source": [
    "img = Image.open(image_paths[0])\n",
    "mask = Image.open(mask_paths[0]).convert('L')"
   ]
  },
  {
   "cell_type": "code",
   "execution_count": null,
   "metadata": {
    "execution": {
     "iopub.execute_input": "2025-06-02T16:04:26.407635Z",
     "iopub.status.busy": "2025-06-02T16:04:26.407357Z",
     "iopub.status.idle": "2025-06-02T16:04:26.427499Z",
     "shell.execute_reply": "2025-06-02T16:04:26.426978Z",
     "shell.execute_reply.started": "2025-06-02T16:04:26.407616Z"
    },
    "trusted": true
   },
   "outputs": [],
   "source": [
    "img_np, mask_np = np.array(img), np.array(mask)\n",
    "\n",
    "img_np.shape"
   ]
  },
  {
   "cell_type": "code",
   "execution_count": null,
   "metadata": {
    "execution": {
     "iopub.execute_input": "2025-06-02T16:04:42.434354Z",
     "iopub.status.busy": "2025-06-02T16:04:42.434053Z",
     "iopub.status.idle": "2025-06-02T16:04:42.439234Z",
     "shell.execute_reply": "2025-06-02T16:04:42.438589Z",
     "shell.execute_reply.started": "2025-06-02T16:04:42.434336Z"
    },
    "trusted": true
   },
   "outputs": [],
   "source": [
    "mask_np.shape"
   ]
  },
  {
   "cell_type": "code",
   "execution_count": null,
   "metadata": {
    "execution": {
     "iopub.execute_input": "2025-06-02T16:42:29.199243Z",
     "iopub.status.busy": "2025-06-02T16:42:29.198985Z",
     "iopub.status.idle": "2025-06-02T16:42:29.271700Z",
     "shell.execute_reply": "2025-06-02T16:42:29.271114Z",
     "shell.execute_reply.started": "2025-06-02T16:42:29.199226Z"
    },
    "trusted": true
   },
   "outputs": [],
   "source": [
    "# 1. Define the pipeline\n",
    "pipeline = A.Compose([\n",
    "    A.Resize(height,width),\n",
    "    A.HorizontalFlip(),\n",
    "    # A.HorizontalFlip(p=0.5), # 50% chance to flip\n",
    "    # A.RandomBrightnessContrast(p=0.8), # 80% chance to adjust brightness/contrast\n",
    "    # A.GaussianBlur(p=0.3), # 30% chance to blur\n",
    "])\n",
    "\n",
    "# 2. Apply the pipeline\n",
    "# transformed_data = pipeline(image=image)\n",
    "# transformed_image = transformed_data['image']\n",
    "\n",
    "img_np_pr = pipeline(image=np.array(Image.open(image_paths[0])))['image']\n",
    "mask_np_pr = pipeline(image=np.array(Image.open(mask_paths[0]).convert('L')))['image']"
   ]
  },
  {
   "cell_type": "code",
   "execution_count": null,
   "metadata": {
    "execution": {
     "iopub.execute_input": "2025-06-02T16:42:31.840452Z",
     "iopub.status.busy": "2025-06-02T16:42:31.839914Z",
     "iopub.status.idle": "2025-06-02T16:42:31.844968Z",
     "shell.execute_reply": "2025-06-02T16:42:31.844269Z",
     "shell.execute_reply.started": "2025-06-02T16:42:31.840433Z"
    },
    "trusted": true
   },
   "outputs": [],
   "source": [
    "mask_np_pr.shape"
   ]
  },
  {
   "cell_type": "code",
   "execution_count": null,
   "metadata": {
    "execution": {
     "iopub.execute_input": "2025-06-02T16:42:33.796232Z",
     "iopub.status.busy": "2025-06-02T16:42:33.795630Z",
     "iopub.status.idle": "2025-06-02T16:42:33.800704Z",
     "shell.execute_reply": "2025-06-02T16:42:33.800008Z",
     "shell.execute_reply.started": "2025-06-02T16:42:33.796196Z"
    },
    "trusted": true
   },
   "outputs": [],
   "source": [
    "img_np_pr.shape"
   ]
  },
  {
   "cell_type": "code",
   "execution_count": null,
   "metadata": {
    "execution": {
     "iopub.execute_input": "2025-06-02T16:10:40.379275Z",
     "iopub.status.busy": "2025-06-02T16:10:40.378681Z",
     "iopub.status.idle": "2025-06-02T16:10:40.386731Z",
     "shell.execute_reply": "2025-06-02T16:10:40.386073Z",
     "shell.execute_reply.started": "2025-06-02T16:10:40.379256Z"
    },
    "trusted": true
   },
   "outputs": [],
   "source": [
    "img_np_pr = np.transpose(img_np_pr, (2, 0, 1))\n",
    "img_np_pr = img_np_pr/255.0\n",
    "img_np_pr = torch.tensor(img_np_pr)\n",
    "img_np_pr.shape"
   ]
  },
  {
   "cell_type": "code",
   "execution_count": null,
   "metadata": {
    "execution": {
     "iopub.execute_input": "2025-06-02T16:39:40.579958Z",
     "iopub.status.busy": "2025-06-02T16:39:40.579417Z",
     "iopub.status.idle": "2025-06-02T16:39:40.585541Z",
     "shell.execute_reply": "2025-06-02T16:39:40.584805Z",
     "shell.execute_reply.started": "2025-06-02T16:39:40.579935Z"
    },
    "trusted": true
   },
   "outputs": [],
   "source": [
    "mask_np_pr = np.expand_dims(mask_np_pr, axis=0)\n",
    "mask_np_pr = mask_np_pr/255.0\n",
    "mask_np_pr = torch.tensor(mask_np_pr)\n",
    "mask_np_pr.shape"
   ]
  },
  {
   "cell_type": "code",
   "execution_count": null,
   "metadata": {
    "execution": {
     "iopub.execute_input": "2025-06-02T18:24:16.575947Z",
     "iopub.status.busy": "2025-06-02T18:24:16.575271Z",
     "iopub.status.idle": "2025-06-02T18:24:16.583007Z",
     "shell.execute_reply": "2025-06-02T18:24:16.582269Z",
     "shell.execute_reply.started": "2025-06-02T18:24:16.575925Z"
    },
    "trusted": true
   },
   "outputs": [],
   "source": [
    "class PreprocessImage():\n",
    "    def __init__(\n",
    "        self,\n",
    "        height=512, \n",
    "        width=512\n",
    "    ):\n",
    "        \n",
    "        self.pipeline = A.Compose([\n",
    "            A.Resize(height,width),\n",
    "            A.HorizontalFlip(),\n",
    "            #A.RandomBrightnessContrast(p=0.5),\n",
    "            #A.ShiftScaleRotate(shift_limit=0.05, scale_limit=0.05, rotate_limit=15, p=0.5),\n",
    "        ])\n",
    "        # print('Albumation Pipeline created')\n",
    "\n",
    "    def run(\n",
    "        self,\n",
    "        image_raw\n",
    "    ):\n",
    "        # Apply the pipeline\n",
    "        img_pr = self.pipeline(image=np.array(image_raw))['image']\n",
    "\n",
    "        if len(img_pr.shape) == 3: # images with 3 channels (RGB)\n",
    "            print('Transposing image with 3 dimensions:')\n",
    "            img_pr = np.transpose(img_pr, (2, 0, 1)) \n",
    "        elif len(img_pr.shape) == 2:  # images with a single channel\n",
    "            print('Expanding image with 2 dimensions')\n",
    "            img_pr= np.expand_dims(img_pr, axis=0)\n",
    "        else:\n",
    "            raise ValueError(f'Image needs to be 2 or 3 dimensional, the requested image has the following dimensions: {img_pr.shape}')\n",
    "    \n",
    "        img_pr = img_pr/255.0\n",
    "        img_pr = torch.tensor(img_pr)\n",
    "        return img_pr\n",
    "        \n",
    "\n",
    "class Load_Data(Dataset):\n",
    "    def __init__(self, image_list, mask_list):\n",
    "        super().__init__()\n",
    "\n",
    "        self.images_list = image_list\n",
    "        self.mask_list = mask_list\n",
    "        self.len = len(image_list)\n",
    "\n",
    "        self.preprocess_image = PreprocessImage()\n",
    "        \n",
    "        \n",
    "    def __getitem__(self, idx):\n",
    "        img_raw = Image.open(self.images_list[idx])\n",
    "        mask_raw = Image.open(self.mask_list[idx]).convert('L')\n",
    "\n",
    "        img = self.preprocess_image.run(img_raw)\n",
    "        mask = self.preprocess_image.run(mask_raw)\n",
    "\n",
    "        return img, mask\n",
    "    \n",
    "    def __len__(self):\n",
    "        return self.len"
   ]
  },
  {
   "cell_type": "code",
   "execution_count": null,
   "metadata": {
    "execution": {
     "iopub.execute_input": "2025-06-02T16:57:43.086098Z",
     "iopub.status.busy": "2025-06-02T16:57:43.085625Z",
     "iopub.status.idle": "2025-06-02T16:57:43.810615Z",
     "shell.execute_reply": "2025-06-02T16:57:43.809238Z",
     "shell.execute_reply.started": "2025-06-02T16:57:43.086075Z"
    },
    "trusted": true
   },
   "outputs": [],
   "source": [
    "num = 0\n",
    "img_raw = Image.open(image_paths[num])\n",
    "img_raw"
   ]
  },
  {
   "cell_type": "code",
   "execution_count": null,
   "metadata": {
    "execution": {
     "iopub.execute_input": "2025-06-02T18:06:33.497598Z",
     "iopub.status.busy": "2025-06-02T18:06:33.497356Z",
     "iopub.status.idle": "2025-06-02T18:06:33.516527Z",
     "shell.execute_reply": "2025-06-02T18:06:33.515721Z",
     "shell.execute_reply.started": "2025-06-02T18:06:33.497583Z"
    },
    "trusted": true
   },
   "outputs": [],
   "source": [
    "preprocess_image = PreprocessImage()\n",
    "\n",
    "img_pr = preprocess_image.run(img_raw)\n",
    "img_pr.shape"
   ]
  },
  {
   "cell_type": "markdown",
   "metadata": {},
   "source": [
    "## Model Training"
   ]
  },
  {
   "cell_type": "code",
   "execution_count": null,
   "metadata": {
    "execution": {
     "iopub.execute_input": "2025-06-02T16:45:11.146271Z",
     "iopub.status.busy": "2025-06-02T16:45:11.145984Z",
     "iopub.status.idle": "2025-06-02T16:45:11.152686Z",
     "shell.execute_reply": "2025-06-02T16:45:11.151917Z",
     "shell.execute_reply.started": "2025-06-02T16:45:11.146252Z"
    },
    "trusted": true
   },
   "outputs": [],
   "source": [
    "from sklearn.model_selection import train_test_split\n",
    "\n",
    "X = image_paths\n",
    "y = mask_paths\n",
    "X_train, X_val, y_train, y_val = train_test_split(X, y, test_size=0.1, random_state=42)"
   ]
  },
  {
   "cell_type": "code",
   "execution_count": null,
   "metadata": {
    "execution": {
     "iopub.execute_input": "2025-06-02T16:46:15.326727Z",
     "iopub.status.busy": "2025-06-02T16:46:15.326086Z",
     "iopub.status.idle": "2025-06-02T16:46:15.332058Z",
     "shell.execute_reply": "2025-06-02T16:46:15.331300Z",
     "shell.execute_reply.started": "2025-06-02T16:46:15.326709Z"
    },
    "trusted": true
   },
   "outputs": [],
   "source": [
    "train_dataset = Load_Data_Original(X_train, y_train)\n",
    "valid_dataset = Load_Data_Original(X_val, y_val)"
   ]
  },
  {
   "cell_type": "code",
   "execution_count": null,
   "metadata": {
    "execution": {
     "iopub.execute_input": "2025-06-02T18:07:09.477530Z",
     "iopub.status.busy": "2025-06-02T18:07:09.477260Z",
     "iopub.status.idle": "2025-06-02T18:07:09.483828Z",
     "shell.execute_reply": "2025-06-02T18:07:09.483038Z",
     "shell.execute_reply.started": "2025-06-02T18:07:09.477512Z"
    },
    "trusted": true
   },
   "outputs": [],
   "source": [
    "train_dataset = Load_Data(X_train, y_train)\n",
    "valid_dataset = Load_Data(X_val, y_val)"
   ]
  },
  {
   "cell_type": "code",
   "execution_count": null,
   "metadata": {
    "execution": {
     "iopub.execute_input": "2025-06-02T18:07:12.951008Z",
     "iopub.status.busy": "2025-06-02T18:07:12.950713Z",
     "iopub.status.idle": "2025-06-02T18:07:12.992092Z",
     "shell.execute_reply": "2025-06-02T18:07:12.991313Z",
     "shell.execute_reply.started": "2025-06-02T18:07:12.950990Z"
    },
    "trusted": true
   },
   "outputs": [],
   "source": [
    "img, mask = train_dataset[18]"
   ]
  },
  {
   "cell_type": "code",
   "execution_count": null,
   "metadata": {
    "editable": false,
    "execution": {
     "iopub.execute_input": "2025-06-02T18:07:16.666768Z",
     "iopub.status.busy": "2025-06-02T18:07:16.666225Z",
     "iopub.status.idle": "2025-06-02T18:07:17.030595Z",
     "shell.execute_reply": "2025-06-02T18:07:17.029911Z",
     "shell.execute_reply.started": "2025-06-02T18:07:16.666727Z"
    },
    "trusted": true
   },
   "outputs": [],
   "source": [
    "img, mask = train_dataset[18]\n",
    "\n",
    "f, axarr = plt.subplots(1,2) \n",
    "axarr[1].imshow(np.squeeze(mask.numpy()), cmap='gray')\n",
    "axarr[0].imshow(np.transpose(img.numpy(), (1,2,0)))\n"
   ]
  },
  {
   "cell_type": "markdown",
   "metadata": {
    "editable": false
   },
   "source": [
    "**This settings are customizable you could change it as you want. Encoder selection is important, your results will be according to it...**"
   ]
  },
  {
   "cell_type": "code",
   "execution_count": null,
   "metadata": {
    "execution": {
     "iopub.execute_input": "2025-06-02T13:58:25.111438Z",
     "iopub.status.busy": "2025-06-02T13:58:25.111162Z",
     "iopub.status.idle": "2025-06-02T13:58:25.115258Z",
     "shell.execute_reply": "2025-06-02T13:58:25.114655Z",
     "shell.execute_reply.started": "2025-06-02T13:58:25.111419Z"
    },
    "trusted": true
   },
   "outputs": [],
   "source": [
    "DEVICE='cuda'\n",
    "\n",
    "EPOCHS=5\n",
    "BATCH_SIZE=16\n",
    "LR=0.001\n",
    "\n",
    "ratio=0.5 #Various ratios could perform better for visualization\n",
    "sample_num=2\n",
    "\n",
    "ENCODER='resnet50'\n",
    "WEIGHTS='imagenet'"
   ]
  },
  {
   "cell_type": "markdown",
   "metadata": {
    "editable": false
   },
   "source": [
    "**We load the data with DataLoader...**"
   ]
  },
  {
   "cell_type": "code",
   "execution_count": null,
   "metadata": {
    "editable": false,
    "execution": {
     "iopub.execute_input": "2025-06-02T13:58:33.629073Z",
     "iopub.status.busy": "2025-06-02T13:58:33.628802Z",
     "iopub.status.idle": "2025-06-02T13:58:33.633371Z",
     "shell.execute_reply": "2025-06-02T13:58:33.632545Z",
     "shell.execute_reply.started": "2025-06-02T13:58:33.629055Z"
    },
    "trusted": true
   },
   "outputs": [],
   "source": [
    "train_loader = DataLoader(\n",
    "        dataset=train_dataset,\n",
    "        batch_size=BATCH_SIZE,\n",
    "        shuffle=True,\n",
    "        num_workers=2,\n",
    ")\n",
    "\n",
    "valid_loader = DataLoader(\n",
    "        dataset=valid_dataset,\n",
    "        batch_size=BATCH_SIZE,\n",
    "        shuffle=False,\n",
    "        num_workers=2,\n",
    ")\n"
   ]
  },
  {
   "cell_type": "markdown",
   "metadata": {
    "editable": false
   },
   "source": [
    "**Here we determine the encoder and weights from the above variables in Unet.**\n",
    "\n",
    "**The value of our loss function is the sum of the DiceLoss and BCEWithLogitsLoss.**"
   ]
  },
  {
   "cell_type": "code",
   "execution_count": null,
   "metadata": {
    "editable": false,
    "execution": {
     "iopub.execute_input": "2025-06-02T13:59:10.094364Z",
     "iopub.status.busy": "2025-06-02T13:59:10.093658Z",
     "iopub.status.idle": "2025-06-02T13:59:10.099719Z",
     "shell.execute_reply": "2025-06-02T13:59:10.098926Z",
     "shell.execute_reply.started": "2025-06-02T13:59:10.094331Z"
    },
    "trusted": true
   },
   "outputs": [],
   "source": [
    "class SegmentationModel(nn.Module):\n",
    "    def __init__(self):\n",
    "        super(SegmentationModel,self).__init__()\n",
    "\n",
    "        self.arc=smp.Unet(\n",
    "            encoder_name=ENCODER,\n",
    "            encoder_weights=WEIGHTS,\n",
    "            in_channels=3,\n",
    "            classes=1,\n",
    "            activation=None\n",
    "        )\n",
    "    def forward(self,images,masks=None):\n",
    "        logits=self.arc(images)\n",
    "\n",
    "        if masks!=None:\n",
    "            loss1=DiceLoss(mode='binary')(logits,masks)\n",
    "            loss2=nn.BCEWithLogitsLoss()(logits,masks)\n",
    "            return logits,loss1,loss2\n",
    "        return logits"
   ]
  },
  {
   "cell_type": "code",
   "execution_count": null,
   "metadata": {
    "editable": false,
    "execution": {
     "iopub.execute_input": "2025-06-02T13:59:14.719445Z",
     "iopub.status.busy": "2025-06-02T13:59:14.718910Z",
     "iopub.status.idle": "2025-06-02T13:59:16.203970Z",
     "shell.execute_reply": "2025-06-02T13:59:16.203386Z",
     "shell.execute_reply.started": "2025-06-02T13:59:14.719420Z"
    },
    "trusted": true
   },
   "outputs": [],
   "source": [
    "model = SegmentationModel()\n",
    "model.to(DEVICE);"
   ]
  },
  {
   "cell_type": "markdown",
   "metadata": {
    "editable": false
   },
   "source": [
    "**We write the function to be used for training and eval so that things are simplified in the training cycle.**"
   ]
  },
  {
   "cell_type": "code",
   "execution_count": null,
   "metadata": {
    "editable": false,
    "execution": {
     "iopub.execute_input": "2025-06-02T13:59:21.761225Z",
     "iopub.status.busy": "2025-06-02T13:59:21.760650Z",
     "iopub.status.idle": "2025-06-02T13:59:21.766418Z",
     "shell.execute_reply": "2025-06-02T13:59:21.765587Z",
     "shell.execute_reply.started": "2025-06-02T13:59:21.761201Z"
    },
    "trusted": true
   },
   "outputs": [],
   "source": [
    "def train_fn(data_loader,model,optimizer):\n",
    "    model.train()\n",
    "    total_diceloss=0.0\n",
    "    total_bceloss=0.0\n",
    "    for images ,masks in tqdm(data_loader):\n",
    "        images=images.to(DEVICE, dtype=torch.float32)\n",
    "        masks=masks.to(DEVICE, dtype=torch.float32)\n",
    "\n",
    "        optimizer.zero_grad()\n",
    "\n",
    "        logits,diceloss,bceloss=model(images,masks)\n",
    "        diceloss.backward(retain_graph=True)\n",
    "        bceloss.backward()\n",
    "        optimizer.step()\n",
    "        total_diceloss+=diceloss.item()\n",
    "        total_bceloss+=bceloss.item()\n",
    "        \n",
    "\n",
    "    return total_diceloss/len(data_loader),total_bceloss/len(data_loader)"
   ]
  },
  {
   "cell_type": "code",
   "execution_count": null,
   "metadata": {
    "editable": false,
    "execution": {
     "iopub.execute_input": "2025-06-02T13:59:33.370721Z",
     "iopub.status.busy": "2025-06-02T13:59:33.370471Z",
     "iopub.status.idle": "2025-06-02T13:59:33.377191Z",
     "shell.execute_reply": "2025-06-02T13:59:33.376376Z",
     "shell.execute_reply.started": "2025-06-02T13:59:33.370704Z"
    },
    "trusted": true
   },
   "outputs": [],
   "source": [
    "def eval_fn(data_loader,model):\n",
    "    model.eval()\n",
    "    total_diceloss=0.0\n",
    "    total_bceloss=0.0\n",
    "    with torch.no_grad():\n",
    "        for images ,masks in tqdm(data_loader):\n",
    "            images=images.to(DEVICE, dtype=torch.float32)\n",
    "            masks=masks.to(DEVICE, dtype=torch.float32)\n",
    "\n",
    "            logits,diceloss,bceloss=model(images,masks)\n",
    "            total_diceloss+=diceloss.item()\n",
    "            total_bceloss+=bceloss.item()\n",
    "            \n",
    "        #Visualization\n",
    "        for i in range(1):\n",
    "            image,mask=next(iter(valid_loader))\n",
    "            image=image[sample_num]\n",
    "            mask=mask[sample_num]\n",
    "            logits_mask=model(image.to('cuda', dtype=torch.float32).unsqueeze(0))\n",
    "            pred_mask=torch.sigmoid(logits_mask)\n",
    "            pred_mask=(pred_mask > ratio)*1.0\n",
    "            f, axarr = plt.subplots(1,3) \n",
    "            axarr[1].imshow(np.squeeze(mask.numpy()), cmap='gray')\n",
    "            axarr[0].imshow(np.transpose(image.numpy(), (1,2,0)))\n",
    "            axarr[2].imshow(np.transpose(pred_mask.detach().cpu().squeeze(0), (1,2,0)))\n",
    "            plt.show()\n",
    "            \n",
    "    return total_diceloss/len(data_loader),total_bceloss/len(data_loader)\n"
   ]
  },
  {
   "cell_type": "code",
   "execution_count": null,
   "metadata": {
    "editable": false,
    "execution": {
     "iopub.execute_input": "2025-06-02T13:59:40.220860Z",
     "iopub.status.busy": "2025-06-02T13:59:40.220565Z",
     "iopub.status.idle": "2025-06-02T13:59:40.225199Z",
     "shell.execute_reply": "2025-06-02T13:59:40.224534Z",
     "shell.execute_reply.started": "2025-06-02T13:59:40.220842Z"
    },
    "trusted": true
   },
   "outputs": [],
   "source": [
    "optimizer=torch.optim.SGD(model.parameters(), lr=LR, momentum=0.9)\n",
    "#torch.optim.Adam(model.parameters(),lr=LR)"
   ]
  },
  {
   "cell_type": "markdown",
   "metadata": {
    "editable": false
   },
   "source": [
    "**We use the adam optimizer and set up our training loop.**\n",
    "\n",
    "**Here we want to save the best model and see our loss at every step...**"
   ]
  },
  {
   "cell_type": "code",
   "execution_count": null,
   "metadata": {
    "editable": false,
    "execution": {
     "iopub.execute_input": "2025-06-02T13:59:46.850600Z",
     "iopub.status.busy": "2025-06-02T13:59:46.850310Z",
     "iopub.status.idle": "2025-06-02T14:15:50.082786Z",
     "shell.execute_reply": "2025-06-02T14:15:50.081822Z",
     "shell.execute_reply.started": "2025-06-02T13:59:46.850583Z"
    },
    "trusted": true
   },
   "outputs": [],
   "source": [
    "best_val_dice_loss=np.Inf\n",
    "best_val_bce_loss=np.Inf\n",
    "\n",
    "try:\n",
    "    os.mkdir(\"/kaggle/working/modelPerformance\")\n",
    "except:\n",
    "    print(\"File Exists!\")\n",
    "\n",
    "try:\n",
    "    os.mkdir(\"/kaggle/working/modelPerformance/\" + ENCODER)\n",
    "except:\n",
    "    print(\"File Exists!\")\n",
    "\n",
    "for i in range(EPOCHS):\n",
    "    train_loss = train_fn(train_loader,model,optimizer)\n",
    "    valid_loss = eval_fn(valid_loader,model)\n",
    "    \n",
    "    train_dice,train_bce=train_loss\n",
    "    valid_dice,valid_bce=valid_loss\n",
    "    print(f'Epochs:{i+1}\\nTrain_loss --> Dice: {train_dice} BCE: {train_bce} \\nValid_loss --> Dice: {valid_dice} BCE: {valid_bce}')\n",
    "    if valid_dice < best_val_dice_loss: #or valid_bce < best_val_bce_loss\n",
    "        torch.save(model.state_dict(),\"/kaggle/working/modelPerformance/{}/model_{:.5f}dice.pt\".format(ENCODER, valid_dice))\n",
    "        print('Model Saved')\n",
    "        best_val_dice_loss=valid_dice\n",
    "        best_val_bce_loss=valid_bce"
   ]
  },
  {
   "cell_type": "code",
   "execution_count": null,
   "metadata": {
    "execution": {
     "iopub.execute_input": "2025-06-02T14:29:34.841211Z",
     "iopub.status.busy": "2025-06-02T14:29:34.840876Z",
     "iopub.status.idle": "2025-06-02T14:29:36.911179Z",
     "shell.execute_reply": "2025-06-02T14:29:36.910339Z",
     "shell.execute_reply.started": "2025-06-02T14:29:34.841186Z"
    },
    "trusted": true
   },
   "outputs": [],
   "source": [
    "num=10\n",
    "ratio=0.5\n",
    "PATH = f\"/kaggle/working/modelPerformance/{ENCODER}/\"\n",
    "model.load_state_dict(torch.load(PATH + os.listdir(PATH)[-1]))\n",
    "\n",
    "image,mask=next(iter(valid_loader))\n",
    "image=image[num]\n",
    "mask=mask[num]\n",
    "logits_mask=model(image.to('cuda', dtype=torch.float32).unsqueeze(0))\n",
    "pred_mask=torch.sigmoid(logits_mask)\n",
    "pred_mask=(pred_mask > ratio)*1.0\n",
    "\n",
    "f, axarr = plt.subplots(1,3) \n",
    "axarr[0].imshow(np.transpose(image.numpy(), (1,2,0)))\n",
    "axarr[0].set_title('Image')\n",
    "axarr[1].imshow(np.squeeze(mask.numpy()), cmap='gray')\n",
    "axarr[1].set_title('Mask')\n",
    "axarr[2].imshow(np.transpose(pred_mask.detach().cpu().squeeze(0), (1,2,0)))\n",
    "axarr[2].set_title('Predicted Mask')"
   ]
  },
  {
   "cell_type": "markdown",
   "metadata": {},
   "source": [
    "## Inference"
   ]
  },
  {
   "cell_type": "code",
   "execution_count": null,
   "metadata": {
    "execution": {
     "iopub.execute_input": "2025-06-02T15:02:00.908317Z",
     "iopub.status.busy": "2025-06-02T15:02:00.908019Z",
     "iopub.status.idle": "2025-06-02T15:02:01.063526Z",
     "shell.execute_reply": "2025-06-02T15:02:01.062798Z",
     "shell.execute_reply.started": "2025-06-02T15:02:00.908293Z"
    },
    "trusted": true
   },
   "outputs": [],
   "source": [
    "!ls /kaggle/working/modelPerformance/resnet50"
   ]
  },
  {
   "cell_type": "code",
   "execution_count": null,
   "metadata": {
    "execution": {
     "iopub.execute_input": "2025-06-02T18:33:20.743154Z",
     "iopub.status.busy": "2025-06-02T18:33:20.742429Z",
     "iopub.status.idle": "2025-06-02T18:33:20.749624Z",
     "shell.execute_reply": "2025-06-02T18:33:20.749068Z",
     "shell.execute_reply.started": "2025-06-02T18:33:20.743133Z"
    },
    "trusted": true
   },
   "outputs": [],
   "source": [
    "def predict_mask(\n",
    "    image,\n",
    "    mask,\n",
    "    model):\n",
    "    logits_mask=model(image.to('cuda', dtype=torch.float32).unsqueeze(0))\n",
    "    pred_mask=torch.sigmoid(logits_mask)\n",
    "    pred_mask=(pred_mask > ratio)*1.0\n",
    "\n",
    "    if mask is None:\n",
    "        f, axarr = plt.subplots(1,2)\n",
    "    else:\n",
    "        f, axarr = plt.subplots(1,3)\n",
    "    axidx = 0\n",
    "    axarr[axidx].imshow(np.transpose(image.numpy(), (1,2,0)))\n",
    "    axarr[axidx].set_title('Image')\n",
    "    if mask is not None:\n",
    "        axidx += 1\n",
    "        axarr[axidx].imshow(np.squeeze(mask.numpy()), cmap='gray')\n",
    "        axarr[axidx].set_title('Mask')\n",
    "    axidx += 1\n",
    "    axarr[axidx].imshow(np.transpose(pred_mask.detach().cpu().squeeze(0), (1,2,0)))\n",
    "    axarr[axidx].set_title('Predicted Mask')\n",
    "    "
   ]
  },
  {
   "cell_type": "code",
   "execution_count": null,
   "metadata": {
    "execution": {
     "iopub.execute_input": "2025-06-02T18:24:41.505823Z",
     "iopub.status.busy": "2025-06-02T18:24:41.505224Z",
     "iopub.status.idle": "2025-06-02T18:24:42.184326Z",
     "shell.execute_reply": "2025-06-02T18:24:42.183795Z",
     "shell.execute_reply.started": "2025-06-02T18:24:41.505801Z"
    },
    "trusted": true
   },
   "outputs": [],
   "source": [
    "valid_dice = 0.21742\n",
    "PATH = \"/kaggle/working/modelPerformance/{}/model_{:.5f}dice.pt\".format(ENCODER, valid_dice)\n",
    "seg_model = SegmentationModel()\n",
    "seg_model.to(DEVICE);\n",
    "seg_model.load_state_dict(torch.load(PATH))\n",
    "\n",
    "preprocess_image = PreprocessImage()\n"
   ]
  },
  {
   "cell_type": "code",
   "execution_count": null,
   "metadata": {
    "execution": {
     "iopub.execute_input": "2025-06-02T18:19:15.866712Z",
     "iopub.status.busy": "2025-06-02T18:19:15.866187Z",
     "iopub.status.idle": "2025-06-02T18:19:17.329209Z",
     "shell.execute_reply": "2025-06-02T18:19:17.328409Z",
     "shell.execute_reply.started": "2025-06-02T18:19:15.866689Z"
    },
    "trusted": true
   },
   "outputs": [],
   "source": [
    "image,mask=next(iter(valid_loader))"
   ]
  },
  {
   "cell_type": "code",
   "execution_count": null,
   "metadata": {
    "execution": {
     "iopub.execute_input": "2025-06-02T18:22:35.895278Z",
     "iopub.status.busy": "2025-06-02T18:22:35.895012Z",
     "iopub.status.idle": "2025-06-02T18:22:35.899082Z",
     "shell.execute_reply": "2025-06-02T18:22:35.898414Z",
     "shell.execute_reply.started": "2025-06-02T18:22:35.895259Z"
    },
    "trusted": true
   },
   "outputs": [],
   "source": [
    "num=10"
   ]
  },
  {
   "cell_type": "code",
   "execution_count": null,
   "metadata": {
    "execution": {
     "iopub.execute_input": "2025-06-02T18:22:40.142150Z",
     "iopub.status.busy": "2025-06-02T18:22:40.141517Z",
     "iopub.status.idle": "2025-06-02T18:22:40.146435Z",
     "shell.execute_reply": "2025-06-02T18:22:40.145918Z",
     "shell.execute_reply.started": "2025-06-02T18:22:40.142130Z"
    },
    "trusted": true
   },
   "outputs": [],
   "source": [
    "image[num].shape"
   ]
  },
  {
   "cell_type": "code",
   "execution_count": null,
   "metadata": {
    "execution": {
     "iopub.execute_input": "2025-06-02T18:22:43.213378Z",
     "iopub.status.busy": "2025-06-02T18:22:43.212706Z",
     "iopub.status.idle": "2025-06-02T18:22:43.217835Z",
     "shell.execute_reply": "2025-06-02T18:22:43.217120Z",
     "shell.execute_reply.started": "2025-06-02T18:22:43.213356Z"
    },
    "trusted": true
   },
   "outputs": [],
   "source": [
    "mask[num].shape"
   ]
  },
  {
   "cell_type": "code",
   "execution_count": null,
   "metadata": {
    "execution": {
     "iopub.execute_input": "2025-06-02T18:33:26.090438Z",
     "iopub.status.busy": "2025-06-02T18:33:26.089734Z",
     "iopub.status.idle": "2025-06-02T18:33:26.551256Z",
     "shell.execute_reply": "2025-06-02T18:33:26.550505Z",
     "shell.execute_reply.started": "2025-06-02T18:33:26.090416Z"
    },
    "trusted": true
   },
   "outputs": [],
   "source": [
    "predict_mask(\n",
    "    image=image[num],\n",
    "    mask=mask[num],\n",
    "    model=seg_model\n",
    ")"
   ]
  },
  {
   "cell_type": "code",
   "execution_count": null,
   "metadata": {
    "execution": {
     "iopub.execute_input": "2025-06-02T18:33:29.802650Z",
     "iopub.status.busy": "2025-06-02T18:33:29.801911Z",
     "iopub.status.idle": "2025-06-02T18:33:30.221132Z",
     "shell.execute_reply": "2025-06-02T18:33:30.220397Z",
     "shell.execute_reply.started": "2025-06-02T18:33:29.802626Z"
    },
    "trusted": true
   },
   "outputs": [],
   "source": [
    "num=14\n",
    "predict_mask(\n",
    "    image=image[num],\n",
    "    mask=None,\n",
    "    model=seg_model\n",
    ")"
   ]
  },
  {
   "cell_type": "code",
   "execution_count": null,
   "metadata": {
    "execution": {
     "iopub.execute_input": "2025-06-02T18:24:51.451186Z",
     "iopub.status.busy": "2025-06-02T18:24:51.450638Z",
     "iopub.status.idle": "2025-06-02T18:24:51.466027Z",
     "shell.execute_reply": "2025-06-02T18:24:51.465407Z",
     "shell.execute_reply.started": "2025-06-02T18:24:51.451163Z"
    },
    "trusted": true
   },
   "outputs": [],
   "source": [
    "num=10\n",
    "\n",
    "img_raw = Image.open(image_paths[num])\n",
    "img_pr = preprocess_image.run(img_raw)\n",
    "\n",
    "img_pr.shape"
   ]
  },
  {
   "cell_type": "code",
   "execution_count": null,
   "metadata": {
    "execution": {
     "iopub.execute_input": "2025-06-02T18:25:50.167233Z",
     "iopub.status.busy": "2025-06-02T18:25:50.166956Z",
     "iopub.status.idle": "2025-06-02T18:25:50.177371Z",
     "shell.execute_reply": "2025-06-02T18:25:50.176573Z",
     "shell.execute_reply.started": "2025-06-02T18:25:50.167215Z"
    },
    "trusted": true
   },
   "outputs": [],
   "source": [
    "mask_raw = Image.open(mask_paths[num]).convert('L')\n",
    "mask_pr = preprocess_image.run(mask_raw)\n",
    "\n",
    "mask_pr.shape"
   ]
  },
  {
   "cell_type": "code",
   "execution_count": null,
   "metadata": {
    "execution": {
     "iopub.execute_input": "2025-06-02T18:34:07.001872Z",
     "iopub.status.busy": "2025-06-02T18:34:07.001532Z",
     "iopub.status.idle": "2025-06-02T18:34:07.433623Z",
     "shell.execute_reply": "2025-06-02T18:34:07.432969Z",
     "shell.execute_reply.started": "2025-06-02T18:34:07.001849Z"
    },
    "trusted": true
   },
   "outputs": [],
   "source": [
    "predict_mask(\n",
    "    image=img_pr,\n",
    "    mask=mask_pr,\n",
    "    model=seg_model\n",
    ")"
   ]
  },
  {
   "cell_type": "code",
   "execution_count": null,
   "metadata": {
    "execution": {
     "iopub.execute_input": "2025-06-02T18:34:25.393649Z",
     "iopub.status.busy": "2025-06-02T18:34:25.393149Z",
     "iopub.status.idle": "2025-06-02T18:34:25.759933Z",
     "shell.execute_reply": "2025-06-02T18:34:25.759158Z",
     "shell.execute_reply.started": "2025-06-02T18:34:25.393629Z"
    },
    "trusted": true
   },
   "outputs": [],
   "source": [
    "predict_mask(\n",
    "    image=img_pr,\n",
    "    mask=None,\n",
    "    model=seg_model\n",
    ")"
   ]
  }
 ],
 "metadata": {
  "kaggle": {
   "accelerator": "gpu",
   "dataSources": [
    {
     "datasetId": 660021,
     "sourceId": 1165040,
     "sourceType": "datasetVersion"
    }
   ],
   "isGpuEnabled": true,
   "isInternetEnabled": true,
   "language": "python",
   "sourceType": "notebook"
  },
  "kernelspec": {
   "display_name": "Python 3",
   "language": "python",
   "name": "python3"
  },
  "language_info": {
   "codemirror_mode": {
    "name": "ipython",
    "version": 3
   },
   "file_extension": ".py",
   "mimetype": "text/x-python",
   "name": "python",
   "nbconvert_exporter": "python",
   "pygments_lexer": "ipython3",
   "version": "3.11.11"
  }
 },
 "nbformat": 4,
 "nbformat_minor": 4
}
